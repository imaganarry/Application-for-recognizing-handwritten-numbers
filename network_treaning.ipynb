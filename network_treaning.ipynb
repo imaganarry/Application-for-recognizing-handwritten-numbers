{
  "nbformat": 4,
  "nbformat_minor": 0,
  "metadata": {
    "colab": {
      "name": "network_treaning.ipynb",
      "provenance": [],
      "collapsed_sections": [
        "8OsyUFVULEkG"
      ]
    },
    "kernelspec": {
      "name": "python3",
      "display_name": "Python 3"
    },
    "accelerator": "GPU"
  },
  "cells": [
    {
      "cell_type": "markdown",
      "metadata": {
        "id": "Ah7dy1kFL2H9"
      },
      "source": [
        "# Проект по распознаванию рукописных цифр из набора данных MNIST с помощью Keras"
      ]
    },
    {
      "cell_type": "code",
      "metadata": {
        "id": "qrfd6FzSLrE2"
      },
      "source": [
        "from tensorflow.keras.datasets import mnist #Библиотека с базой Mnist\n",
        "from tensorflow.keras.models import Sequential #НС прямого распространения\n",
        "from tensorflow.keras.layers import Dense #Полносвязные слой\n",
        "from tensorflow.keras import utils #Утилиты для to_categorical\n",
        "from tensorflow.keras.preprocessing import image #Для отрисовки изображения\n",
        "from google.colab import files #Для загрузки своей картинки\n",
        "import numpy as np #Библиотека работы с массивами\n",
        "import matplotlib.pyplot as plt #Отрисовка изображений\n",
        "from PIL import Image #Отрисовка изображений\n",
        "#Отрисовывать изображения в ноутбуке, а не в консоль или файл\n",
        "%matplotlib inline "
      ],
      "execution_count": 1,
      "outputs": []
    },
    {
      "cell_type": "markdown",
      "metadata": {
        "id": "xiurjCBVMDTG"
      },
      "source": [
        "## Подготовка данных для обучения сети"
      ]
    },
    {
      "cell_type": "markdown",
      "metadata": {
        "id": "1yDF75Cx8VPz"
      },
      "source": [
        "**Загрузка набора данных с рукописными цифрами**"
      ]
    },
    {
      "cell_type": "code",
      "metadata": {
        "id": "E5L3LUIi8PDV",
        "colab": {
          "base_uri": "https://localhost:8080/"
        },
        "outputId": "0177e334-86e6-409f-943a-f2b124497c82"
      },
      "source": [
        "#Загрузка данных Mnist\n",
        "#x_train_org - входные картинки, обучающая выбрка\n",
        "#y_train_org - выходные индексы, обучающая выборка\n",
        "#x_test_org - входные картинки, тестовая выбрка\n",
        "#y_test_org - выходные индексы, тестовая выборка\n",
        "(x_train_org, y_train_org), (x_test_org, y_test_org) = mnist.load_data()"
      ],
      "execution_count": 2,
      "outputs": [
        {
          "output_type": "stream",
          "text": [
            "Downloading data from https://storage.googleapis.com/tensorflow/tf-keras-datasets/mnist.npz\n",
            "11493376/11490434 [==============================] - 0s 0us/step\n"
          ],
          "name": "stdout"
        }
      ]
    },
    {
      "cell_type": "code",
      "metadata": {
        "id": "ga0DtPJQVkEh",
        "colab": {
          "base_uri": "https://localhost:8080/",
          "height": 282
        },
        "outputId": "ef568bb2-6c8a-4e76-a7df-f7e47f8c972a"
      },
      "source": [
        "#Отрисовка картинки\n",
        "n = 115 #Номер изображения из датасета\n",
        "plt.imshow(Image.fromarray(x_train_org[n]).convert('RGBA'))\n",
        "plt.show()\n",
        "print(y_train_org[n])"
      ],
      "execution_count": 3,
      "outputs": [
        {
          "output_type": "display_data",
          "data": {
            "image/png": "[encoded data removed]",
            "text/plain": [
              "<Figure size 432x288 with 1 Axes>"
            ]
          },
          "metadata": {
            "tags": [],
            "needs_background": "light"
          }
        },
        {
          "output_type": "stream",
          "text": [
            "4\n"
          ],
          "name": "stdout"
        }
      ]
    },
    {
      "cell_type": "markdown",
      "metadata": {
        "id": "7uXTnIojJLbl"
      },
      "source": [
        "**Преобразование размерности данных в наборе**"
      ]
    },
    {
      "cell_type": "code",
      "metadata": {
        "id": "GBAqLKjGJJ-V",
        "colab": {
          "base_uri": "https://localhost:8080/"
        },
        "outputId": "60d2a00e-1c91-4be3-8b1a-47d54380f2d9"
      },
      "source": [
        "#Для удобства работы с полносвязным слоем (Dense) \n",
        "#меняем формат входных картинок с 28х28 на 784х1\n",
        "x_train = x_train_org.reshape(60000, 784)\n",
        "x_test = x_test_org.reshape(10000, 784)\n",
        "print(x_train_org.shape)\n",
        "print(x_train.shape)"
      ],
      "execution_count": 4,
      "outputs": [
        {
          "output_type": "stream",
          "text": [
            "(60000, 28, 28)\n",
            "(60000, 784)\n"
          ],
          "name": "stdout"
        }
      ]
    },
    {
      "cell_type": "markdown",
      "metadata": {
        "id": "hDaHO5LgJYxU"
      },
      "source": [
        "**Нормализация данных**"
      ]
    },
    {
      "cell_type": "code",
      "metadata": {
        "id": "rscaAuBNJdq9"
      },
      "source": [
        "#Нормализуем входные картинки\n",
        "#НС лучше работают, если данные нормаваны от 0 до 1\n",
        "#Сейчас значения во входных картинках от 0 до 255\n",
        "#Надо разделить картинки на 255\n",
        "#И сначала преобразовать картинки в тип float\n",
        "x_train = x_train.astype('float32')\n",
        "x_train = x_train / 255\n",
        "x_test = x_test.astype('float32')\n",
        "x_test = x_test / 255 "
      ],
      "execution_count": 5,
      "outputs": []
    },
    {
      "cell_type": "markdown",
      "metadata": {
        "id": "zqJ9GA1kJxBF"
      },
      "source": [
        "**Преобразуем метки в формат one hot encoding**"
      ]
    },
    {
      "cell_type": "code",
      "metadata": {
        "id": "zQnasUyyJ3cG"
      },
      "source": [
        "#НС сложно работать с чистыми индексами от 0 до 9\n",
        "#Ей проще работать с данными в формате one hot encoding\n",
        "#Это формат из 10 цифр - все 0 и одна 1 там, где правильный ответ\n",
        "#Например\n",
        "#Индекс 0 - это [1 0 0 0 0 0 0 0 0 0]\n",
        "#Индекс 2 - это [0 0 1 0 0 0 0 0 0 0]\n",
        "#Индекс 9 - это [0 0 0 0 0 0 0 0 0 1]\n",
        "#Это делается функцией utils.to_categorical()\n",
        "#Второй параметр - это количество классов, у нас - 10\n",
        "y_train = utils.to_categorical(y_train_org, 10)\n",
        "y_test = utils.to_categorical(y_test_org, 10)"
      ],
      "execution_count": 6,
      "outputs": []
    },
    {
      "cell_type": "markdown",
      "metadata": {
        "id": "KfuqlyjHJ_ye"
      },
      "source": [
        "**Правильный ответ в формате one hot encoding**\n",
        "\n"
      ]
    },
    {
      "cell_type": "code",
      "metadata": {
        "id": "9zUfd1aeKH3e",
        "colab": {
          "base_uri": "https://localhost:8080/"
        },
        "outputId": "fff9d1ce-1c59-4efb-f379-b53e9677d1b6"
      },
      "source": [
        "#Выводим размер y_train\n",
        "#60 тысяч примеров, каждый размера 10 (так как 10 классов)\n",
        "print(y_train.shape)"
      ],
      "execution_count": 7,
      "outputs": [
        {
          "output_type": "stream",
          "text": [
            "(60000, 10)\n"
          ],
          "name": "stdout"
        }
      ]
    },
    {
      "cell_type": "code",
      "metadata": {
        "id": "KWYwnS5giydM",
        "colab": {
          "base_uri": "https://localhost:8080/"
        },
        "outputId": "3aa323a0-7741-4b9e-84d3-e5e4854e4445"
      },
      "source": [
        "#Выводим пример одного выходного вектора\n",
        "print(y_train[n])"
      ],
      "execution_count": 8,
      "outputs": [
        {
          "output_type": "stream",
          "text": [
            "[0. 0. 0. 0. 1. 0. 0. 0. 0. 0.]\n"
          ],
          "name": "stdout"
        }
      ]
    },
    {
      "cell_type": "markdown",
      "metadata": {
        "id": "BmTr_lXTKNbN"
      },
      "source": [
        "## Создаем нейронную сеть"
      ]
    },
    {
      "cell_type": "markdown",
      "metadata": {
        "id": "fV_igNZuMNXe"
      },
      "source": [
        "**Создаем последовательную модель**"
      ]
    },
    {
      "cell_type": "code",
      "metadata": {
        "id": "D-jPYYxIKQkt"
      },
      "source": [
        "#Создаём сеть прямого распространения\n",
        "#Пока она пустая\n",
        "#Подробнее на https://keras.io/models/sequential/\n",
        "model = Sequential()"
      ],
      "execution_count": 9,
      "outputs": []
    },
    {
      "cell_type": "markdown",
      "metadata": {
        "id": "Q3QzIVtBMQRG"
      },
      "source": [
        "**Добавляем уровни сети**\n"
      ]
    },
    {
      "cell_type": "code",
      "metadata": {
        "id": "kYVSvpNIMSnG"
      },
      "source": [
        "#Добавляем в сеть полносвязные слои\n",
        "#Dense - полносвязный слой, подробнее на https://keras.io/layers/core/\n",
        "#Первый параметр - количество нейронов, обычно от 2 до 2000, подбирается в ходе исследования\n",
        "#input_dim - размер входного вектора, указывается только в первом слое сети\n",
        "#activation - активационная функция нейронов данного слоя\n",
        "#relu - одна из активационных функций, подробнее на https://keras.io/activations/\n",
        "model.add(Dense(800, input_dim=784, activation=\"relu\"))\n",
        "model.add(Dense(400, activation=\"relu\"))\n",
        "\n",
        "#Выходной полносвязный слой, 10 нейронов (по количеству рукописных цифр)\n",
        "#activation=\"softmax\" - активационная функция, \n",
        "#которая делает сумму всех значений нейронов слой, равной 1\n",
        "#Подробнее https://keras.io/activations/\n",
        "model.add(Dense(10, activation=\"softmax\"))"
      ],
      "execution_count": 10,
      "outputs": []
    },
    {
      "cell_type": "markdown",
      "metadata": {
        "id": "G__m76T-KWhd"
      },
      "source": [
        "**Компилируем сеть**"
      ]
    },
    {
      "cell_type": "code",
      "metadata": {
        "id": "PTcbSxchKZjd",
        "colab": {
          "base_uri": "https://localhost:8080/"
        },
        "outputId": "5e7abbad-868c-4a25-8f16-d03ed93566ea"
      },
      "source": [
        "#При компиляции мы задаём несколько параметров\n",
        "#loss - функция ошибки, которую оптимизирует сеть\n",
        "#categorical_crossentropy - одна из функций ошибки, подходящая для классификации нескольких классов, подробнее https://keras.io/activations/\n",
        "#optimizer - алгоритм обучения НС\n",
        "#adam - один из алгоритмов обучения НС, подробнее https://keras.io/optimizers/\n",
        "#metrics - метрика качества обучения, измеряется после каждой эпохи обучения\n",
        "#accuracy - метрика, процент правильно распознанных примеров, подробнее https://keras.io/metrics/\n",
        "model.compile(loss=\"categorical_crossentropy\", optimizer=\"adam\", metrics=[\"accuracy\"])\n",
        "\n",
        "#Вывод структуры нейронки\n",
        "print(model.summary())"
      ],
      "execution_count": 11,
      "outputs": [
        {
          "output_type": "stream",
          "text": [
            "Model: \"sequential\"\n",
            "_________________________________________________________________\n",
            "Layer (type)                 Output Shape              Param #   \n",
            "=================================================================\n",
            "dense (Dense)                (None, 800)               628000    \n",
            "_________________________________________________________________\n",
            "dense_1 (Dense)              (None, 400)               320400    \n",
            "_________________________________________________________________\n",
            "dense_2 (Dense)              (None, 10)                4010      \n",
            "=================================================================\n",
            "Total params: 952,410\n",
            "Trainable params: 952,410\n",
            "Non-trainable params: 0\n",
            "_________________________________________________________________\n",
            "None\n"
          ],
          "name": "stdout"
        }
      ]
    },
    {
      "cell_type": "markdown",
      "metadata": {
        "id": "lspCHiaCKl72"
      },
      "source": [
        "## Обучаем нейронную сеть"
      ]
    },
    {
      "cell_type": "code",
      "metadata": {
        "id": "H6EIXu1dKoju",
        "colab": {
          "base_uri": "https://localhost:8080/"
        },
        "outputId": "25bc09da-43e8-484b-f566-5c037563b119"
      },
      "source": [
        "#fit - функция обучения нейронки\n",
        "#x_train, y_train - обучающая выборка, входные и выходные данные\n",
        "#batch_size - размер батча, количество примеров, которое обрабатывает нейронка, перед одним изменением весов\n",
        "#epochs - количество эпох, когда нейронка обучается на всех примерах выбрки\n",
        "#verbose - 0 - не визуализировать ход обучения, 1 - визуализировать\n",
        "#validation_split - процент данных, на которых сеть не обучается, на которых мы измеряем точность распознавания\n",
        "model.fit(x_train, y_train, batch_size=128, epochs=30, verbose=1, validation_split=0.2)"
      ],
      "execution_count": 12,
      "outputs": [
        {
          "output_type": "stream",
          "text": [
            "Epoch 1/30\n",
            "375/375 [==============================] - 3s 4ms/step - loss: 0.4212 - accuracy: 0.8771 - val_loss: 0.1091 - val_accuracy: 0.9673\n",
            "Epoch 2/30\n",
            "375/375 [==============================] - 1s 3ms/step - loss: 0.0838 - accuracy: 0.9739 - val_loss: 0.0829 - val_accuracy: 0.9753\n",
            "Epoch 3/30\n",
            "375/375 [==============================] - 1s 3ms/step - loss: 0.0482 - accuracy: 0.9850 - val_loss: 0.0833 - val_accuracy: 0.9752\n",
            "Epoch 4/30\n",
            "375/375 [==============================] - 1s 3ms/step - loss: 0.0333 - accuracy: 0.9901 - val_loss: 0.0933 - val_accuracy: 0.9746\n",
            "Epoch 5/30\n",
            "375/375 [==============================] - 1s 3ms/step - loss: 0.0255 - accuracy: 0.9914 - val_loss: 0.0964 - val_accuracy: 0.9723\n",
            "Epoch 6/30\n",
            "375/375 [==============================] - 1s 3ms/step - loss: 0.0177 - accuracy: 0.9941 - val_loss: 0.0880 - val_accuracy: 0.9769\n",
            "Epoch 7/30\n",
            "375/375 [==============================] - 1s 3ms/step - loss: 0.0159 - accuracy: 0.9945 - val_loss: 0.0915 - val_accuracy: 0.9772\n",
            "Epoch 8/30\n",
            "375/375 [==============================] - 1s 3ms/step - loss: 0.0144 - accuracy: 0.9951 - val_loss: 0.0943 - val_accuracy: 0.9766\n",
            "Epoch 9/30\n",
            "375/375 [==============================] - 1s 3ms/step - loss: 0.0137 - accuracy: 0.9954 - val_loss: 0.1044 - val_accuracy: 0.9743\n",
            "Epoch 10/30\n",
            "375/375 [==============================] - 1s 3ms/step - loss: 0.0098 - accuracy: 0.9966 - val_loss: 0.1137 - val_accuracy: 0.9734\n",
            "Epoch 11/30\n",
            "375/375 [==============================] - 1s 3ms/step - loss: 0.0093 - accuracy: 0.9970 - val_loss: 0.1312 - val_accuracy: 0.9753\n",
            "Epoch 12/30\n",
            "375/375 [==============================] - 1s 3ms/step - loss: 0.0149 - accuracy: 0.9952 - val_loss: 0.0998 - val_accuracy: 0.9783\n",
            "Epoch 13/30\n",
            "375/375 [==============================] - 1s 3ms/step - loss: 0.0072 - accuracy: 0.9978 - val_loss: 0.1240 - val_accuracy: 0.9744\n",
            "Epoch 14/30\n",
            "375/375 [==============================] - 1s 3ms/step - loss: 0.0081 - accuracy: 0.9976 - val_loss: 0.1028 - val_accuracy: 0.9777\n",
            "Epoch 15/30\n",
            "375/375 [==============================] - 1s 3ms/step - loss: 0.0071 - accuracy: 0.9979 - val_loss: 0.1168 - val_accuracy: 0.9791\n",
            "Epoch 16/30\n",
            "375/375 [==============================] - 1s 3ms/step - loss: 0.0073 - accuracy: 0.9976 - val_loss: 0.1075 - val_accuracy: 0.9793\n",
            "Epoch 17/30\n",
            "375/375 [==============================] - 1s 3ms/step - loss: 0.0100 - accuracy: 0.9968 - val_loss: 0.1330 - val_accuracy: 0.9758\n",
            "Epoch 18/30\n",
            "375/375 [==============================] - 1s 3ms/step - loss: 0.0069 - accuracy: 0.9977 - val_loss: 0.1159 - val_accuracy: 0.9780\n",
            "Epoch 19/30\n",
            "375/375 [==============================] - 1s 3ms/step - loss: 0.0073 - accuracy: 0.9976 - val_loss: 0.1219 - val_accuracy: 0.9780\n",
            "Epoch 20/30\n",
            "375/375 [==============================] - 1s 3ms/step - loss: 0.0038 - accuracy: 0.9985 - val_loss: 0.1188 - val_accuracy: 0.9794\n",
            "Epoch 21/30\n",
            "375/375 [==============================] - 1s 3ms/step - loss: 0.0039 - accuracy: 0.9990 - val_loss: 0.1079 - val_accuracy: 0.9797\n",
            "Epoch 22/30\n",
            "375/375 [==============================] - 1s 3ms/step - loss: 0.0021 - accuracy: 0.9993 - val_loss: 0.1384 - val_accuracy: 0.9773\n",
            "Epoch 23/30\n",
            "375/375 [==============================] - 1s 3ms/step - loss: 0.0097 - accuracy: 0.9971 - val_loss: 0.1308 - val_accuracy: 0.9749\n",
            "Epoch 24/30\n",
            "375/375 [==============================] - 1s 3ms/step - loss: 0.0121 - accuracy: 0.9963 - val_loss: 0.1299 - val_accuracy: 0.9771\n",
            "Epoch 25/30\n",
            "375/375 [==============================] - 1s 3ms/step - loss: 0.0050 - accuracy: 0.9982 - val_loss: 0.1348 - val_accuracy: 0.9785\n",
            "Epoch 26/30\n",
            "375/375 [==============================] - 1s 3ms/step - loss: 0.0033 - accuracy: 0.9990 - val_loss: 0.1044 - val_accuracy: 0.9818\n",
            "Epoch 27/30\n",
            "375/375 [==============================] - 1s 3ms/step - loss: 0.0051 - accuracy: 0.9983 - val_loss: 0.1392 - val_accuracy: 0.9783\n",
            "Epoch 28/30\n",
            "375/375 [==============================] - 1s 3ms/step - loss: 0.0064 - accuracy: 0.9980 - val_loss: 0.1477 - val_accuracy: 0.9786\n",
            "Epoch 29/30\n",
            "375/375 [==============================] - 1s 3ms/step - loss: 0.0071 - accuracy: 0.9979 - val_loss: 0.1222 - val_accuracy: 0.9797\n",
            "Epoch 30/30\n",
            "375/375 [==============================] - 1s 3ms/step - loss: 0.0032 - accuracy: 0.9988 - val_loss: 0.1214 - val_accuracy: 0.9824\n"
          ],
          "name": "stdout"
        },
        {
          "output_type": "execute_result",
          "data": {
            "text/plain": [
              "<tensorflow.python.keras.callbacks.History at 0x7fc2902081d0>"
            ]
          },
          "metadata": {
            "tags": []
          },
          "execution_count": 12
        }
      ]
    },
    {
      "cell_type": "markdown",
      "metadata": {
        "id": "8OsyUFVULEkG"
      },
      "source": [
        "## Сохраняем обученную нейронную сеть"
      ]
    },
    {
      "cell_type": "markdown",
      "metadata": {
        "id": "3H4ivOt5H2rm"
      },
      "source": [
        "Записываем обученную нейронную сеть в файл `mnist_dense.h5`"
      ]
    },
    {
      "cell_type": "code",
      "metadata": {
        "id": "jCcYrRwfLYg-"
      },
      "source": [
        "#Сохраняем нейронку в файл\n",
        "model.save(\"mnist_dense.h5\")\n"
      ],
      "execution_count": 15,
      "outputs": []
    },
    {
      "cell_type": "markdown",
      "metadata": {
        "id": "ulInadIzIBj_"
      },
      "source": [
        "Проверяем, что файл сохранился"
      ]
    },
    {
      "cell_type": "markdown",
      "metadata": {
        "id": "52MAtyzWGKAC"
      },
      "source": [
        "**Сохраняем файлы на локальный компьютер**"
      ]
    },
    {
      "cell_type": "code",
      "metadata": {
        "id": "0etc3S-PGOuy",
        "colab": {
          "base_uri": "https://localhost:8080/",
          "height": 17
        },
        "outputId": "cb827f12-76cf-422e-d6cd-ee183643137f"
      },
      "source": [
        "#Скачиваем файл локально на компьютер\n",
        "files.download(\"mnist_dense.h5\")"
      ],
      "execution_count": 14,
      "outputs": [
        {
          "output_type": "display_data",
          "data": {
            "application/javascript": [
              "\n",
              "    async function download(id, filename, size) {\n",
              "      if (!google.colab.kernel.accessAllowed) {\n",
              "        return;\n",
              "      }\n",
              "      const div = document.createElement('div');\n",
              "      const label = document.createElement('label');\n",
              "      label.textContent = `Downloading \"${filename}\": `;\n",
              "      div.appendChild(label);\n",
              "      const progress = document.createElement('progress');\n",
              "      progress.max = size;\n",
              "      div.appendChild(progress);\n",
              "      document.body.appendChild(div);\n",
              "\n",
              "      const buffers = [];\n",
              "      let downloaded = 0;\n",
              "\n",
              "      const channel = await google.colab.kernel.comms.open(id);\n",
              "      // Send a message to notify the kernel that we're ready.\n",
              "      channel.send({})\n",
              "\n",
              "      for await (const message of channel.messages) {\n",
              "        // Send a message to notify the kernel that we're ready.\n",
              "        channel.send({})\n",
              "        if (message.buffers) {\n",
              "          for (const buffer of message.buffers) {\n",
              "            buffers.push(buffer);\n",
              "            downloaded += buffer.byteLength;\n",
              "            progress.value = downloaded;\n",
              "          }\n",
              "        }\n",
              "      }\n",
              "      const blob = new Blob(buffers, {type: 'application/binary'});\n",
              "      const a = document.createElement('a');\n",
              "      a.href = window.URL.createObjectURL(blob);\n",
              "      a.download = filename;\n",
              "      div.appendChild(a);\n",
              "      a.click();\n",
              "      div.remove();\n",
              "    }\n",
              "  "
            ],
            "text/plain": [
              "<IPython.core.display.Javascript object>"
            ]
          },
          "metadata": {
            "tags": []
          }
        },
        {
          "output_type": "display_data",
          "data": {
            "application/javascript": [
              "download(\"download_d41850ce-57a4-4d36-adb0-d9ce6ac4e780\", \"mnist_dense.h5\", 11460576)"
            ],
            "text/plain": [
              "<IPython.core.display.Javascript object>"
            ]
          },
          "metadata": {
            "tags": []
          }
        }
      ]
    },
    {
      "cell_type": "markdown",
      "metadata": {
        "id": "7vMx5V5QMYlW"
      },
      "source": [
        "## Используем сеть для распознавания рукописных цифр тестовой выборки"
      ]
    },
    {
      "cell_type": "code",
      "metadata": {
        "id": "-AGygAcPMd0G"
      },
      "source": [
        "#Номер тестовой цифры, которую будем распознавать\n",
        "n_rec = 2021"
      ],
      "execution_count": 16,
      "outputs": []
    },
    {
      "cell_type": "code",
      "metadata": {
        "id": "TT4Ofqx1WTCq",
        "colab": {
          "base_uri": "https://localhost:8080/",
          "height": 265
        },
        "outputId": "f6418df9-5329-4850-8132-df010f8e8bd7"
      },
      "source": [
        "plt.imshow(Image.fromarray(x_test_org[n_rec]).convert('RGBA'))\n",
        "plt.show()"
      ],
      "execution_count": 18,
      "outputs": [
        {
          "output_type": "display_data",
          "data": {
            "image/png": "[encoded data removed]",
            "text/plain": [
              "<Figure size 432x288 with 1 Axes>"
            ]
          },
          "metadata": {
            "tags": [],
            "needs_background": "light"
          }
        }
      ]
    },
    {
      "cell_type": "markdown",
      "metadata": {
        "id": "Lnft8V55M0Rc"
      },
      "source": [
        "**Меняем размерность изображения и нормализуем его**"
      ]
    },
    {
      "cell_type": "code",
      "metadata": {
        "id": "UKFWqSHtM7Nf"
      },
      "source": [
        "#Выбираем нужную картинку из тестовой выборки\n",
        "x = x_test[n_rec]\n",
        "#Добавляем одну размерность в конце, чтобы нейронка могла распознать пример\n",
        "#Потому что нейронка принимает именно массов примеров для распознавания\n",
        "#Мы делаем массив из одного примеры\n",
        "x = np.expand_dims(x, axis=0)"
      ],
      "execution_count": 19,
      "outputs": []
    },
    {
      "cell_type": "markdown",
      "metadata": {
        "id": "bMruIcf2NHlN"
      },
      "source": [
        "**Запускаем распознавание**"
      ]
    },
    {
      "cell_type": "code",
      "metadata": {
        "id": "Ap72-9_kNKU2"
      },
      "source": [
        "#Распознаём ннаш пример\n",
        "prediction = model.predict(x)"
      ],
      "execution_count": 20,
      "outputs": []
    },
    {
      "cell_type": "markdown",
      "metadata": {
        "id": "2Gldpmn2NQ6-"
      },
      "source": [
        "**Печатаем результаты распознавания**"
      ]
    },
    {
      "cell_type": "code",
      "metadata": {
        "id": "P7opRiSZNUku",
        "colab": {
          "base_uri": "https://localhost:8080/"
        },
        "outputId": "e723c28d-dc65-4d9e-9fdf-89c0d2c8f45e"
      },
      "source": [
        "#Выводим результат, это 10 цифр\n",
        "#Сумма значений равна 1, так как финальный слой с активационной функций softmax\n",
        "print(prediction)"
      ],
      "execution_count": 21,
      "outputs": [
        {
          "output_type": "stream",
          "text": [
            "[[7.9839965e-21 1.4762439e-20 2.4132086e-25 1.1420310e-12 1.2410873e-23\n",
            "  1.0000000e+00 1.6365444e-17 1.3426351e-18 5.0342250e-13 3.7920049e-12]]\n"
          ],
          "name": "stdout"
        }
      ]
    },
    {
      "cell_type": "markdown",
      "metadata": {
        "id": "LQTiyEM3NfRG"
      },
      "source": [
        "**Преобразуем результаты из формата one hot encoding**"
      ]
    },
    {
      "cell_type": "code",
      "metadata": {
        "id": "XVC_dTGqNohG",
        "colab": {
          "base_uri": "https://localhost:8080/"
        },
        "outputId": "3ed94bdc-c81f-4ae4-d45e-1eeca821323b"
      },
      "source": [
        "#Получаем индекс самого большого элемента\n",
        "#Это итоговая цифра, которую распознала сеть\n",
        "prediction = np.argmax(prediction)\n",
        "print(prediction)"
      ],
      "execution_count": 22,
      "outputs": [
        {
          "output_type": "stream",
          "text": [
            "5\n"
          ],
          "name": "stdout"
        }
      ]
    },
    {
      "cell_type": "markdown",
      "metadata": {
        "id": "zJy8tKjuNyD2"
      },
      "source": [
        "**Печатаем правильный ответ**"
      ]
    },
    {
      "cell_type": "code",
      "metadata": {
        "id": "0zoGlCZWN2Id",
        "colab": {
          "base_uri": "https://localhost:8080/"
        },
        "outputId": "1f5ef9e1-7de7-4e6d-8fe5-03983baba500"
      },
      "source": [
        "#выводим правильный ответ, для сравнения\n",
        "print(y_test_org[n_rec])"
      ],
      "execution_count": 23,
      "outputs": [
        {
          "output_type": "stream",
          "text": [
            "5\n"
          ],
          "name": "stdout"
        }
      ]
    },
    {
      "cell_type": "markdown",
      "metadata": {
        "id": "Q0ZFBXOJbBlm"
      },
      "source": [
        "## Проверяем нейросеть на тестовой выборке\r\n"
      ]
    },
    {
      "cell_type": "code",
      "metadata": {
        "colab": {
          "base_uri": "https://localhost:8080/"
        },
        "id": "uJXMXEy1bHM_",
        "outputId": "6257f9c6-575c-4bc7-e65e-de04da369bc4"
      },
      "source": [
        "y_test_predict = np.argmax(model.predict(x_test), axis=1)\r\n",
        "y_test_prop = y_test_predict == y_test_org\r\n",
        "print('Количество верных ответов:',sum(y_test_prop)/len(y_test_prop)*100,'%')"
      ],
      "execution_count": 25,
      "outputs": [
        {
          "output_type": "stream",
          "text": [
            "Количество верных ответов: 98.28 %\n"
          ],
          "name": "stdout"
        }
      ]
    },
    {
      "cell_type": "code",
      "metadata": {
        "colab": {
          "base_uri": "https://localhost:8080/"
        },
        "id": "h-KPl9GucGuJ",
        "outputId": "5896abe8-696e-4317-def5-aa39c9d399f2"
      },
      "source": [
        "# анализируем правильность разпознавания каждого класса\r\n",
        "cl_count = [0 for i in range(10)]\r\n",
        "cl_prop = [0 for i in range(10)]\r\n",
        "for i in range(len(y_test_org)):\r\n",
        "  cl_count[y_test_org[i]] += 1\r\n",
        "  if y_test_prop[i]:\r\n",
        "    cl_prop[y_test_org[i]] += 1\r\n",
        "for i in range(len(cl_count)):\r\n",
        "  print(i, ': ', round(cl_prop[i]/cl_count[i]*100,2),'%')"
      ],
      "execution_count": 26,
      "outputs": [
        {
          "output_type": "stream",
          "text": [
            "0 :  99.08 %\n",
            "1 :  99.38 %\n",
            "2 :  98.35 %\n",
            "3 :  98.12 %\n",
            "4 :  97.86 %\n",
            "5 :  98.09 %\n",
            "6 :  99.06 %\n",
            "7 :  98.44 %\n",
            "8 :  97.84 %\n",
            "9 :  96.43 %\n"
          ],
          "name": "stdout"
        }
      ]
    },
    {
      "cell_type": "code",
      "metadata": {
        "colab": {
          "base_uri": "https://localhost:8080/"
        },
        "id": "oVWSTrTocwaZ",
        "outputId": "ae4214d4-8cec-4909-a13d-30e678a8a88a"
      },
      "source": [
        "import operator\r\n",
        "# анализируем характерные ошибки каждого класса\r\n",
        "cl_err_count = [0 for i in range(10)]\r\n",
        "cl_err_dict = [{} for i in range(10)]\r\n",
        "for i in range(len(y_test_org)):\r\n",
        "  if not y_test_prop[i]:\r\n",
        "    cl_err_count[y_test_org[i]] += 1\r\n",
        "    if y_test_predict[i] not in cl_err_dict[y_test_org[i]]:\r\n",
        "      cl_err_dict[y_test_org[i]][y_test_predict[i]] = 1\r\n",
        "    else:\r\n",
        "      cl_err_dict[y_test_org[i]][y_test_predict[i]] += 1\r\n",
        "\r\n",
        "for i in range(len(cl_err_count)):\r\n",
        "  print(i, ': ', end='')\r\n",
        "  cl_err_dict[i] = dict(sorted(cl_err_dict[i].items(), key=operator.itemgetter(1), reverse = True))\r\n",
        "  for key in cl_err_dict[i].keys():\r\n",
        "    print(key,' - ', round(cl_err_dict[i][key]/cl_err_count[i]*100,2),'%, ',sep='', end='')\r\n",
        "  print()\r\n",
        "  #print(i, ': ', round(cl_prop[i]/cl_count[i]*100,2),'%')"
      ],
      "execution_count": 27,
      "outputs": [
        {
          "output_type": "stream",
          "text": [
            "0 : 6 - 44.44%, 2 - 22.22%, 8 - 11.11%, 7 - 11.11%, 1 - 11.11%, \n",
            "1 : 8 - 42.86%, 6 - 42.86%, 5 - 14.29%, \n",
            "2 : 7 - 29.41%, 0 - 23.53%, 8 - 23.53%, 3 - 11.76%, 4 - 5.88%, 1 - 5.88%, \n",
            "3 : 2 - 31.58%, 5 - 26.32%, 7 - 15.79%, 8 - 10.53%, 0 - 10.53%, 9 - 5.26%, \n",
            "4 : 9 - 33.33%, 2 - 19.05%, 6 - 14.29%, 7 - 14.29%, 0 - 9.52%, 5 - 4.76%, 1 - 4.76%, \n",
            "5 : 3 - 35.29%, 6 - 17.65%, 8 - 17.65%, 0 - 11.76%, 4 - 5.88%, 7 - 5.88%, 9 - 5.88%, \n",
            "6 : 5 - 44.44%, 0 - 22.22%, 1 - 22.22%, 4 - 11.11%, \n",
            "7 : 2 - 50.0%, 8 - 25.0%, 3 - 12.5%, 9 - 6.25%, 0 - 6.25%, \n",
            "8 : 3 - 23.81%, 2 - 14.29%, 9 - 14.29%, 7 - 14.29%, 4 - 9.52%, 6 - 9.52%, 5 - 9.52%, 0 - 4.76%, \n",
            "9 : 4 - 25.0%, 5 - 16.67%, 7 - 16.67%, 3 - 16.67%, 0 - 11.11%, 8 - 8.33%, 1 - 5.56%, \n"
          ],
          "name": "stdout"
        }
      ]
    },
    {
      "cell_type": "markdown",
      "metadata": {
        "id": "uFyI8beELi39"
      },
      "source": [
        "## Загружаем свою картинку"
      ]
    },
    {
      "cell_type": "code",
      "metadata": {
        "id": "Pbsw3N30LnT2",
        "colab": {
          "resources": {
            "http://localhost:8080/nbextensions/google.colab/files.js": {
              "data": "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",
              "ok": true,
              "headers": [
                [
                  "content-type",
                  "application/javascript"
                ]
              ],
              "status": 200,
              "status_text": ""
            }
          },
          "base_uri": "https://localhost:8080/",
          "height": 109
        },
        "outputId": "06019989-5914-42d3-8aaa-a57c7eb97898"
      },
      "source": [
        "#Загрузка файла со своей рукописной цифрой\n",
        "files.upload()"
      ],
      "execution_count": 36,
      "outputs": [
        {
          "output_type": "display_data",
          "data": {
            "text/html": [
              "\n",
              "     <input type=\"file\" id=\"files-8851d71d-8137-4caa-b135-58f5e81b768c\" name=\"files[]\" multiple disabled\n",
              "        style=\"border:none\" />\n",
              "     <output id=\"result-8851d71d-8137-4caa-b135-58f5e81b768c\">\n",
              "      Upload widget is only available when the cell has been executed in the\n",
              "      current browser session. Please rerun this cell to enable.\n",
              "      </output>\n",
              "      <script src=\"/nbextensions/google.colab/files.js\"></script> "
            ],
            "text/plain": [
              "<IPython.core.display.HTML object>"
            ]
          },
          "metadata": {
            "tags": []
          }
        },
        {
          "output_type": "stream",
          "text": [
            "Saving 007.jpg to 007.jpg\n"
          ],
          "name": "stdout"
        },
        {
          "output_type": "execute_result",
          "data": {
            "text/plain": [
              "{'007.jpg': b'\\xff\\xd8\\xff\\xe0\\x00\\x10JFIF\\x00\\x01\\x01\\x01\\x00`\\x00`\\x00\\x00\\xff\\xdb\\x00C\\x00\\x02\\x01\\x01\\x02\\x01\\x01\\x02\\x02\\x02\\x02\\x02\\x02\\x02\\x02\\x03\\x05\\x03\\x03\\x03\\x03\\x03\\x06\\x04\\x04\\x03\\x05\\x07\\x06\\x07\\x07\\x07\\x06\\x07\\x07\\x08\\t\\x0b\\t\\x08\\x08\\n\\x08\\x07\\x07\\n\\r\\n\\n\\x0b\\x0c\\x0c\\x0c\\x0c\\x07\\t\\x0e\\x0f\\r\\x0c\\x0e\\x0b\\x0c\\x0c\\x0c\\xff\\xdb\\x00C\\x01\\x02\\x02\\x02\\x03\\x03\\x03\\x06\\x03\\x03\\x06\\x0c\\x08\\x07\\x08\\x0c\\x0c\\x0c\\x0c\\x0c\\x0c\\x0c\\x0c\\x0c\\x0c\\x0c\\x0c\\x0c\\x0c\\x0c\\x0c\\x0c\\x0c\\x0c\\x0c\\x0c\\x0c\\x0c\\x0c\\x0c\\x0c\\x0c\\x0c\\x0c\\x0c\\x0c\\x0c\\x0c\\x0c\\x0c\\x0c\\x0c\\x0c\\x0c\\x0c\\x0c\\x0c\\x0c\\x0c\\x0c\\x0c\\x0c\\x0c\\x0c\\x0c\\xff\\xc0\\x00\\x11\\x08\\x00u\\x00l\\x03\\x01\"\\x00\\x02\\x11\\x01\\x03\\x11\\x01\\xff\\xc4\\x00\\x1f\\x00\\x00\\x01\\x05\\x01\\x01\\x01\\x01\\x01\\x01\\x00\\x00\\x00\\x00\\x00\\x00\\x00\\x00\\x01\\x02\\x03\\x04\\x05\\x06\\x07\\x08\\t\\n\\x0b\\xff\\xc4\\x00\\xb5\\x10\\x00\\x02\\x01\\x03\\x03\\x02\\x04\\x03\\x05\\x05\\x04\\x04\\x00\\x00\\x01}\\x01\\x02\\x03\\x00\\x04\\x11\\x05\\x12!1A\\x06\\x13Qa\\x07\"q\\x142\\x81\\x91\\xa1\\x08#B\\xb1\\xc1\\x15R\\xd1\\xf0$3br\\x82\\t\\n\\x16\\x17\\x18\\x19\\x1a%&\\'()*456789:CDEFGHIJSTUVWXYZcdefghijstuvwxyz\\x83\\x84\\x85\\x86\\x87\\x88\\x89\\x8a\\x92\\x93\\x94\\x95\\x96\\x97\\x98\\x99\\x9a\\xa2\\xa3\\xa4\\xa5\\xa6\\xa7\\xa8\\xa9\\xaa\\xb2\\xb3\\xb4\\xb5\\xb6\\xb7\\xb8\\xb9\\xba\\xc2\\xc3\\xc4\\xc5\\xc6\\xc7\\xc8\\xc9\\xca\\xd2\\xd3\\xd4\\xd5\\xd6\\xd7\\xd8\\xd9\\xda\\xe1\\xe2\\xe3\\xe4\\xe5\\xe6\\xe7\\xe8\\xe9\\xea\\xf1\\xf2\\xf3\\xf4\\xf5\\xf6\\xf7\\xf8\\xf9\\xfa\\xff\\xc4\\x00\\x1f\\x01\\x00\\x03\\x01\\x01\\x01\\x01\\x01\\x01\\x01\\x01\\x01\\x00\\x00\\x00\\x00\\x00\\x00\\x01\\x02\\x03\\x04\\x05\\x06\\x07\\x08\\t\\n\\x0b\\xff\\xc4\\x00\\xb5\\x11\\x00\\x02\\x01\\x02\\x04\\x04\\x03\\x04\\x07\\x05\\x04\\x04\\x00\\x01\\x02w\\x00\\x01\\x02\\x03\\x11\\x04\\x05!1\\x06\\x12AQ\\x07aq\\x13\"2\\x81\\x08\\x14B\\x91\\xa1\\xb1\\xc1\\t#3R\\xf0\\x15br\\xd1\\n\\x16$4\\xe1%\\xf1\\x17\\x18\\x19\\x1a&\\'()*56789:CDEFGHIJSTUVWXYZcdefghijstuvwxyz\\x82\\x83\\x84\\x85\\x86\\x87\\x88\\x89\\x8a\\x92\\x93\\x94\\x95\\x96\\x97\\x98\\x99\\x9a\\xa2\\xa3\\xa4\\xa5\\xa6\\xa7\\xa8\\xa9\\xaa\\xb2\\xb3\\xb4\\xb5\\xb6\\xb7\\xb8\\xb9\\xba\\xc2\\xc3\\xc4\\xc5\\xc6\\xc7\\xc8\\xc9\\xca\\xd2\\xd3\\xd4\\xd5\\xd6\\xd7\\xd8\\xd9\\xda\\xe2\\xe3\\xe4\\xe5\\xe6\\xe7\\xe8\\xe9\\xea\\xf2\\xf3\\xf4\\xf5\\xf6\\xf7\\xf8\\xf9\\xfa\\xff\\xda\\x00\\x0c\\x03\\x01\\x00\\x02\\x11\\x03\\x11\\x00?\\x00\\xfd\\xfc\\xa2\\x8a(\\x00\\xa2\\x8a(\\x00\\xa2\\x8a(\\x00\\xa2\\x8a(\\x00\\xa2\\x8a(\\x00\\xa2\\x8a(\\x00\\xa2\\x8a(\\x00\\xa2\\x8a(\\x03\\xe4\\xaf\\xf8,\\x87\\xfc\\x15\\x8b\\xc3\\xbf\\xf0Ho\\xd9n\\xdf\\xc7\\x9a\\xb6\\x81u\\xe2\\xdds]\\xd4\\x97F\\xd0tXnE\\xaa\\xde\\\\\\x18\\xdeVyf*\\xde\\\\H\\x91\\xb1$+\\x12J(\\x1f6\\xe1\\xf9u\\xf0g\\xfe\\x0f\\x81\\x85\\x9a\\xf1>!|\\x05\\x921\\xf7\\xad&\\xf0\\xef\\x88Cw\\xfb\\xb2G<C\\xb7\\xf1\\x07\\xe4\\xff\\x00\\x08\\xed\\xfa\\xdd\\xff\\x00\\x05?\\xff\\x00\\x82c\\xfc?\\xff\\x00\\x82\\xac\\xfe\\xcd\\xc7\\xe1\\xcf\\x8f\\xa4\\xd54\\xf8\\xec\\xef\\x93U\\xd2um1\\xd5o4\\xab\\xc4GA\"\\xefVWVI\\x1dY\\x18a\\x83pU\\x82\\xb2\\xfe2x\\xf7\\xfe\\x0c\\x83\\xf1\\xb4~1\\xd4\\x07\\x85\\xfe:xZo\\x0f\\xf9\\xa4\\xd8\\xb6\\xa9\\xa2O\\x1d\\xe7\\x96y\\x02Q\\x1b\\xb2n\\x1c\\x8c\\xa9\\xc1\\xc6p\\xb9\\xda\\x00=\\xa7\\xfe#y\\xf8Y\\xff\\x00D?\\xe2\\x07\\xfe\\r\\xad?\\xc2\\x8f\\xf8\\x8d\\xe7\\xe1g\\xfd\\x10\\xff\\x00\\x88\\x1f\\xf86\\xb4\\xff\\x00\\n\\xf9\\xff\\x00\\xfe \\x86\\xf8\\xa9\\xff\\x00E\\xc3\\xe1\\xff\\x00\\xfe\\nn\\xff\\x00\\xc6\\x8f\\xf8\\x82\\x1b\\xe2\\xa7\\xfd\\x17\\x0f\\x87\\xff\\x00\\xf8)\\xbb\\xff\\x00\\x1a\\x00\\xfa\\x03\\xfe#y\\xf8Y\\xff\\x00D?\\xe2\\x07\\xfe\\r\\xad?\\xc2\\x8f\\xf8\\x8d\\xe7\\xe1g\\xfd\\x10\\xff\\x00\\x88\\x1f\\xf86\\xb4\\xff\\x00\\n\\xf9\\xff\\x00\\xfe \\x86\\xf8\\xa9\\xff\\x00E\\xc3\\xe1\\xff\\x00\\xfe\\nn\\xff\\x00\\xc6\\x8f\\xf8\\x82\\x1b\\xe2\\xa7\\xfd\\x17\\x0f\\x87\\xff\\x00\\xf8)\\xbb\\xff\\x00\\x1a\\x00\\xfa\\x03\\xfe#y\\xf8Y\\xff\\x00D?\\xe2\\x07\\xfe\\r\\xad?\\xc2\\x8f\\xf8\\x8d\\xe7\\xe1g\\xfd\\x10\\xff\\x00\\x88\\x1f\\xf86\\xb4\\xff\\x00\\n\\xf9\\xee\\xeb\\xfe\\x0c\\x90\\xf8\\x9fem$\\xd3|t\\xf8w\\x0c0\\xa9y$}.\\xedU\\x14\\x0c\\x92I8\\x00\\x0e\\xf5\\xf8\\xd3\\xf1\\x7f\\xc2Z?\\x80\\xbe(k\\xda\\'\\x87\\xfcGo\\xe2\\xfd\\x1bI\\xbd\\x92\\xd2\\xd3[\\x82\\xd9\\xad\\xa1\\xd5\\x11\\x0e\\xdf>8\\xdc\\x96\\x11\\xb1\\x04\\xae\\xec\\x12\\xb8$);@\\x07\\xf5\\xcd\\xff\\x00\\x04\\x98\\xff\\x00\\x83\\x83\\xbe\\x0f\\xff\\x00\\xc1Z\\xfcq\\xabx;\\xc3zO\\x89\\xfc\\x1b\\xe3\\x9d\"\\xc0\\xea\\x87H\\xd6\\xd2\\x16[\\xebetG\\x92\\xdeh\\x9d\\x83\\xecgM\\xca\\xc1\\x1b\\x0c\\x08\\x0c\\x03\\x15\\xfb\\xca\\xbf\\x9a\\xff\\x00\\xf83\\x8f\\xf6\\x05\\xf8\\x81\\xaf\\xfe\\xd6z\\x87\\xed\\x07u\\xa5\\xcb\\xa5\\xfc7\\xf0\\xfe\\x8f{\\xa2Y\\xdf\\xdc\\xa1_\\xed\\xbb\\xe9\\xb6#Gn\\x0f\\xdeH\\x949y\\x07\\xca\\x1bj\\x0c\\x9d\\xdb\\x7f\\xa5\\n\\x00(\\xa2\\x8a\\x00(\\xa2\\x8a\\x00(\\xa2\\x8a\\x00(\\xa2\\x8a\\x00(\\xa2\\x8a\\x00\\xf8\\x03\\xfe\\x0eG\\xff\\x00\\x82\\x8ai\\x1f\\xb0O\\xfc\\x13c\\xc5\\x9ax\\xba\\x99|m\\xf1n\\xca\\xef\\xc2>\\x1c\\xb7\\x81\\x82\\xca\\x86h\\n\\\\\\xdd\\x93\\xd5R\\x08_;\\x86O\\x99$#\\x8d\\xdb\\x87\\xf3\\x0b\\xff\\x00\\x04\\xa6\\xfd\\x964\\xbf\\xdbc\\xfe\\n-\\xf0\\x87\\xe1~\\xbb\\r\\xf5\\xc7\\x87\\xfcU\\xe2\\x08b\\xd5\\xa2\\xb4,\\xb3Ie\\x10i\\xee\\x142\\xf2\\x99\\x8a\\'\\x05\\xc7(\\tn\\xd5\\xf6O\\xfc\\x1d\\xd5\\xfb]?\\xed\\x07\\xff\\x00\\x05N\\xb8\\xf0M\\xa5\\xc3I\\xa1\\xfc\\x1d\\xd1\\xad\\xf48\\xd0\\x1c\\xc6\\xf7\\xb3\\xa8\\xbb\\xba\\x90\\x7f\\xb5\\xfb\\xd8ao{o\\xc6\\xbfD\\xbf\\xe0\\xce\\x9f\\xf8\\'\\x86\\x89\\xf0\\xc7\\xf6@\\xd4\\xbfh-oE\\xb7\\x9b\\xc6\\x9f\\x11o\\xeet\\xfd\\n\\xfax\\xc3Ic\\xa3\\xdb?\\x92\\xc2\"yC5\\xcaO\\xbc\\x8f\\xbc\\xb0\\xc5\\xdb\\xa8\\x07\\xec\\x17\\xc3O\\x86\\x9e\\x1f\\xf87\\xf0\\xff\\x00G\\xf0\\xaf\\x85t}?\\xc3\\xfe\\x1b\\xf0\\xfd\\xa4v:v\\x9dc\\x08\\x86\\xde\\xce\\x04\\x18TE\\x1c\\x00\\x07\\xe7\\xd4\\xf3[\\x94Q@\\x05\\x14Q@\\x05\\x14Q@\\x05\\x14Q@\\x05\\x14Q@\\x05`|V\\xf8\\x87c\\xf0\\x8b\\xe1w\\x89<Y\\xa9\\x90\\xbao\\x85\\xf4\\xab\\xadZ\\xec\\x97\\t\\x88\\xad\\xe2i_\\xe6<\\x0f\\x95\\x0f\\'\\x81[\\xf5\\xf9\\xa7\\xff\\x00\\x07]\\xfe\\xd6\\xa3\\xf6j\\xff\\x00\\x82I\\xf8\\x93\\xc3\\xf6wmm\\xae|Z\\xd4m\\xbc)j#\\xfb\\xff\\x00gbn/\\x0f\\xfb\\x86\\x08\\x1e\"y\\xff\\x00^\\x07|\\x80\\x0f\\xe5\\xd7\\xe3\\xaf\\xc6\\x0f\\x16~\\xdb\\x9f\\xb5/\\x89<i\\xab\\xaf\\xf6\\x87\\x8c~%\\xf8\\x82K\\xd7\\x82\\x1e\\x15\\xae.f\\xf9!\\x8c\\x1e\\x8a\\xbb\\x95\\x14\\x13\\xc2\\xaa\\x8a\\xfe\\xd4?\\xe0\\x9d\\xbf\\xb3\\x0c\\xff\\x00\\xb1\\x7f\\xec3\\xf0\\xaf\\xe1e\\xe5\\xd4W\\xda\\x87\\x82|9i\\xa7_O\\x17\\xfa\\xb9n\\x82\\x06\\x9d\\x93\\xbe\\xc3+>\\xdc\\xf6\\xc5\\x7f*\\x7f\\xf0n\\x07\\xecue\\xfbh\\x7f\\xc1Z\\xfe\\x1ci:\\xc4o6\\x81\\xe0\\xb7\\x93\\xc6z\\x94k\\x9f\\xde\\xad\\x8e\\xd7\\x81\\x0f\\xfb-t\\xd6\\xca\\xc0\\xf5R\\xc3\\xa9\\x15\\xfd\\x89P\\x01E\\x14P\\x01E\\x14P\\x01E\\x14P\\x01E\\x14P\\x01E~(\\x7f\\xc1\\xe3\\x9f\\xb5W\\xc7/\\xd9\\xf7\\xe1\\xb7\\xc2]\\'\\xe1\\xee\\xbb\\xe2o\\x07\\xfc>\\xf14\\xd7\\xe3_\\xd5\\xb4;\\x99m%\\xba\\xbc\\x8f\\xc96\\xf6\\x93O\\x19\\x0c\\x88ci\\x9cG\\xb8\\tHl\\x86\\xf2\\xb8\\xfe|\\xbf\\xe1\\xac>)\\xff\\x00\\xd1J\\xf8\\x81\\xff\\x00\\x85\\r\\xdf\\xff\\x00\\x1c\\xa0\\x0f\\xee\\xf2\\xbf\\x9c?\\xf8=\\x93\\xf6\\x99\\xff\\x00\\x84\\xa3\\xf6\\x92\\xf8K\\xf0\\x96\\xcfPi-\\xfc#\\xa1\\xdcx\\x87Q\\xb5E\\xf9\\x16\\xe6\\xf6_*-\\xc7\\xbb,V\\xcc@\\xec&\\xcf\\xf1q\\xf8\\xff\\x00\\xff\\x00\\ra\\xf1O\\xfe\\x8aW\\xc4\\x0f\\xfc(n\\xff\\x00\\xf8\\xe5r^.\\xf1\\xae\\xb3\\xf1\\x03ZmK^\\xd5\\xb5=oQ\\x91U\\x1a\\xea\\xfe\\xe9\\xeefeQ\\x80\\x0b\\xb9-\\x80:\\x0c\\xf1@\\x1f\\xb9\\xbf\\xf0e\\xe6\\x87\\xe0\\xdf\\x85\\xf0\\xfcl\\xf8\\x99\\xe2\\xaf\\x17\\xf8g\\xc3\\xf7\\x97\\xa6\\xc7\\xc3\\x1au\\xbe\\xa5\\xa8Ai#\\xc6\\xbb\\xaen\\x1c\\x19\\x1c\\x16\\x04\\xb5\\xb8\\xe0c*rzc\\xf7\\xaf\\xc3_\\xb4G\\xc3\\xff\\x00\\x19\\xeb\\x10\\xe9\\xda?\\x8e\\xbc\\x1d\\xabj\\x17\\x07\\x11[Y\\xebV\\xd3\\xcd!\\xff\\x00e\\x15\\xc9?\\x80\\xaf\\xe1s\\xc1_\\x04\\xbci\\xf1\\'L\\x92\\xf7\\xc3\\xbe\\x11\\xf1F\\xbfg\\x0c\\x86\\x17\\x9fM\\xd2\\xa7\\xba\\x89\\x1c\\x00J\\x96\\x8dH\\r\\x82\\x0e:\\xe0\\x8a\\xe8\\xf4\\x0f\\xd9\\x0f\\xe3\\x16\\xa1\\xae\\xd9\\xc1\\xa5\\xfc/\\xf8\\x956\\xa5,\\xc8\\xb6\\xa9k\\xe1\\xcb\\xd6\\x99\\xa5$m\\x08\\x16<\\xee\\xce1\\x8es@\\x1f\\xdd\\x8d\\x15\\xe2\\xbf\\xf0N?\\x0e\\xfcB\\xf0\\x8f\\xec\\x17\\xf0\\x87K\\xf8\\xb15\\xcd\\xc7\\xc4k\\x1f\\n\\xd8C\\xaf\\xb5\\xcc\\x9em\\xc0\\xb9\\x10\\xa8e\\x99\\xf2w\\xcc\\xa3\\n\\xed\\x93\\xb9\\xc3\\x1c\\x9c\\xe6\\xbd\\xaa\\x80\\n(\\xa2\\x80\\n(\\xa2\\x80\\n(\\xa2\\x803\\xfcQ\\xe1=+\\xc7\\x1a$\\xdaf\\xb5\\xa6i\\xfa\\xc6\\x9bq\\x8f6\\xd2\\xf6\\xdd. \\x97\\x04\\x11\\xb9\\x1c\\x158 \\x1eGQ\\\\\\x7f\\xfc2w\\xc2\\xbf\\xfa&\\x7f\\x0f\\xff\\x00\\xf0\\x9d\\xb4\\xff\\x00\\xe3u\\xe8\\x14P\\x07\\x9f\\xff\\x00\\xc3\\'|+\\xff\\x00\\xa2g\\xf0\\xff\\x00\\xff\\x00\\t\\xdbO\\xfe7_\\xc4\\x17\\xed^\\xaa\\x9f\\xb5/\\xc4\\xa0\\xaa\\xa8\\xa3\\xc5Z\\xa0\\n\\xaa\\x15T}\\xae^\\x00\\x1c\\x01\\xec+\\xfb\\xbd\\xaf\\xe1\\x0f\\xf6\\xb0\\xff\\x00\\x93\\xa6\\xf8\\x95\\xff\\x00cV\\xa9\\xff\\x00\\xa5r\\xd0\\x07\\xf6\\x9b\\xff\\x00\\x04\\xd6\\xf8\\x1f\\xe1\\xff\\x00\\xd9\\xcb\\xf6\\x06\\xf8C\\xe1\\x0f\\x0c\\xdb5\\xbe\\x93\\xa6xSOe/\\x8f2yd\\xb7Ie\\x96B\\xa0\\x02\\xef#\\xb3\\x13\\x81\\xc9\\xec8\\xafo\\xaf?\\xfd\\x93\\x7f\\xe4\\xd6>\\x19\\xff\\x00\\xd8\\xa9\\xa5\\xff\\x00\\xe9$U\\xe8\\x14\\x00QE\\x14\\x00QE\\x14\\x00QE\\x14\\x00QE\\x14\\x00QE\\x14\\x01C\\xc5WZ\\x85\\x8f\\x865)\\xb4\\xabh\\xaf5Hme{;y_bO0BQ\\x19\\xbb\\x02\\xd8\\x04\\xf6\\xcd\\x7f\\x08_\\x10\\xf4?\\x17x\\xc7\\xe3\\xc6\\xb7\\xa7\\xeb\\x1a&\\xa4\\xbe:\\xd5\\xb5\\xd9\\xe1\\xbc\\xd2V\\xc9\\xd2\\xef\\xfbBY\\xd8<\\x02\\x0co\\x12y\\xacT&3\\x9e+\\xfb\\xcc\\xae|\\xfc%\\xf0\\xabx\\xdb\\xfe\\x12c\\xe1\\x9f\\x0f\\xff\\x00\\xc2I\\xff\\x00A_\\xec\\xe8~\\xdd\\xf7v\\x7f\\xae\\xdb\\xbf\\xee\\xfc\\xbdzq\\xd2\\x803\\xff\\x00g\\xbf\\x0b\\xde\\xf8\\x1f\\xe0\\x1f\\x81\\xf4]J/\\'Q\\xd1\\xfc?acu\\x1ewyr\\xc5o\\x1a:\\xe7\\xbe\\x19H\\xae\\xc2\\x8aM\\xfct4\\x007\"\\x96\\x8a(\\x00\\xa2\\x8a(\\x00\\xa2\\x8a(\\x00\\xa2\\x8a(\\x00\\xa2\\x8a(\\x00\\xa2\\x8a(\\x00\\xa2\\x8a(\\x00\\xa2\\x8a(\\x00\\xa2\\x8a(\\x03\\xff\\xd9'}"
            ]
          },
          "metadata": {
            "tags": []
          },
          "execution_count": 36
        }
      ]
    },
    {
      "cell_type": "markdown",
      "metadata": {
        "id": "2rXNsnTnMLJO"
      },
      "source": [
        "Проверяем загрузку картинки"
      ]
    },
    {
      "cell_type": "code",
      "metadata": {
        "id": "v3y6wbi-MNqs",
        "colab": {
          "base_uri": "https://localhost:8080/"
        },
        "outputId": "b0449f1a-f18e-4e85-f6fc-bf96bd79cb46"
      },
      "source": [
        "!ls"
      ],
      "execution_count": 37,
      "outputs": [
        {
          "output_type": "stream",
          "text": [
            " 004.jpg   007.jpg  'mnist_dense (1).h5'   mnist_dense.h5   sample_data\n"
          ],
          "name": "stdout"
        }
      ]
    },
    {
      "cell_type": "markdown",
      "metadata": {
        "id": "F8HQI_X5MUms"
      },
      "source": [
        "Загружаем картинку из файла"
      ]
    },
    {
      "cell_type": "code",
      "metadata": {
        "id": "Zfi4L4iYMTLE"
      },
      "source": [
        "#Указывает путь к файлу\n",
        "img_path = '007.jpg'\n",
        "#Загружаем картинку, меняем размер на 28х28, формат на оттенки серого\n",
        "img = image.load_img(img_path, target_size=(28, 28), color_mode = \"grayscale\")"
      ],
      "execution_count": 38,
      "outputs": []
    },
    {
      "cell_type": "markdown",
      "metadata": {
        "id": "c2yCw9y1QSL1"
      },
      "source": [
        "Показываем картинку"
      ]
    },
    {
      "cell_type": "code",
      "metadata": {
        "id": "BNW4bWUYP8Rt",
        "colab": {
          "base_uri": "https://localhost:8080/",
          "height": 265
        },
        "outputId": "bd1915fd-711a-47dd-be0f-68fa522d1ed3"
      },
      "source": [
        "#Вывод картинки\n",
        "plt.imshow(img.convert('RGBA'))\n",
        "plt.show()"
      ],
      "execution_count": 39,
      "outputs": [
        {
          "output_type": "display_data",
          "data": {
            "image/png": "[encoded data removed]",
            "text/plain": [
              "<Figure size 432x288 with 1 Axes>"
            ]
          },
          "metadata": {
            "tags": [],
            "needs_background": "light"
          }
        }
      ]
    },
    {
      "cell_type": "markdown",
      "metadata": {
        "id": "2fHqp8KbOsJd"
      },
      "source": [
        "Преобразуем картинку для обработки нейронной сетью"
      ]
    },
    {
      "cell_type": "code",
      "metadata": {
        "id": "0xsuR1vDNihN"
      },
      "source": [
        "#Преобразуем картинку в массив\n",
        "x = image.img_to_array(img)\n",
        "#Меняем форму массива в плоский вектор\n",
        "x = x.reshape(1, 784)\n",
        "#Инвертируем изображение, нам надо белое на чёрном фоне\n",
        "x = 255 - x\n",
        "#Нормализуем изображение\n",
        "x /= 255"
      ],
      "execution_count": 40,
      "outputs": []
    },
    {
      "cell_type": "markdown",
      "metadata": {
        "id": "OYpe-m2bNR-8"
      },
      "source": [
        "Запускаем распознавание"
      ]
    },
    {
      "cell_type": "code",
      "metadata": {
        "id": "jTUbtYAPNI60"
      },
      "source": [
        "#Распознаём картинку\n",
        "prediction = model.predict(x)"
      ],
      "execution_count": 41,
      "outputs": []
    },
    {
      "cell_type": "markdown",
      "metadata": {
        "id": "gdDM5wzcRRql"
      },
      "source": [
        "Результаты распознавания"
      ]
    },
    {
      "cell_type": "code",
      "metadata": {
        "id": "4qbu45hIMQvk",
        "colab": {
          "base_uri": "https://localhost:8080/"
        },
        "outputId": "f96c548d-99ad-491d-9a58-2086ea4536ef"
      },
      "source": [
        "#Выводим результат\n",
        "prediction"
      ],
      "execution_count": 42,
      "outputs": [
        {
          "output_type": "execute_result",
          "data": {
            "text/plain": [
              "array([[4.5533240e-18, 3.1681657e-06, 4.7299691e-05, 1.4480938e-06,\n",
              "        2.7658658e-09, 5.8493730e-14, 4.7525579e-15, 9.9994802e-01,\n",
              "        6.7219572e-12, 6.9157319e-12]], dtype=float32)"
            ]
          },
          "metadata": {
            "tags": []
          },
          "execution_count": 42
        }
      ]
    },
    {
      "cell_type": "code",
      "metadata": {
        "id": "iOwGOz41PNsV",
        "colab": {
          "base_uri": "https://localhost:8080/"
        },
        "outputId": "48d4c0ef-07fa-4940-ad83-4eaac673c2d8"
      },
      "source": [
        "#Вывод распознанной цифры\n",
        "print(np.argmax(prediction))"
      ],
      "execution_count": 43,
      "outputs": [
        {
          "output_type": "stream",
          "text": [
            "7\n"
          ],
          "name": "stdout"
        }
      ]
    }
  ]
}